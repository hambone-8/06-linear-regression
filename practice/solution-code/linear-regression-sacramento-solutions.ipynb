{
 "cells": [
  {
   "cell_type": "markdown",
   "metadata": {},
   "source": [
    "<img src=\"http://imgur.com/1ZcRyrc.png\" style=\"float: left; margin: 20px; height: 55px\">\n",
    "\n",
    "# Simple Linear Regression with Sacramento Real Estate Data\n",
    "\n",
    "_Authors: Matt Brems, Sam Stack_\n",
    "\n",
    "---\n",
    "\n",
    "In this lab you will hone your EDA skills and practice constructing simple linear regressions using a dataset on Sacramento real estate sales.  The dataset contains information on qualities of the property, location of the property, and time of sale."
   ]
  },
  {
   "cell_type": "markdown",
   "metadata": {},
   "source": [
    "### 1. Read in the Sacramento housing data set."
   ]
  },
  {
   "cell_type": "code",
   "execution_count": null,
   "metadata": {},
   "outputs": [],
   "source": [
    "SAC_CSV = '../datasets/sacramento_real_estate_transactions.csv'"
   ]
  },
  {
   "cell_type": "code",
   "execution_count": null,
   "metadata": {
    "jupyter": {
     "outputs_hidden": false
    }
   },
   "outputs": [],
   "source": [
    "import pandas as pd\n",
    "\n",
    "shd = pd.read_csv(SAC_CSV)\n",
    "\n",
    "shd.head()"
   ]
  },
  {
   "cell_type": "markdown",
   "metadata": {},
   "source": [
    "### 2. Conduct exploratory data analysis on this data set. \n",
    "\n",
    "**Report any notable findings here and any steps you take to clean/process data.**\n",
    "\n",
    "> **Note:** These EDA checks should be done on every data set we give you. If you find yourself checking for, say, missing/corrupted data over and over, it might be to your long-term benefit to have a function that you can re-use every time you're given some new data."
   ]
  },
  {
   "cell_type": "code",
   "execution_count": null,
   "metadata": {
    "jupyter": {
     "outputs_hidden": false
    }
   },
   "outputs": [],
   "source": [
    "# Check the dtypes\n",
    "shd.dtypes"
   ]
  },
  {
   "cell_type": "code",
   "execution_count": null,
   "metadata": {
    "jupyter": {
     "outputs_hidden": false
    }
   },
   "outputs": [],
   "source": [
    "# Zip code is better as a string object (categorical) so I will have to convert it.\n",
    "shd['zip'] = shd['zip'].astype(str)"
   ]
  },
  {
   "cell_type": "markdown",
   "metadata": {},
   "source": [
    "**Fun Fact:** Zip codes often have leading zeros, i.e 02215 = Boston, MA, which will often get knocked off automatically by many softwares like Python and Excel. You can imagine that this could create some issues. _"
   ]
  },
  {
   "cell_type": "code",
   "execution_count": null,
   "metadata": {
    "jupyter": {
     "outputs_hidden": false
    }
   },
   "outputs": [],
   "source": [
    "# Check out the summary statistics:\n",
    "shd.describe()"
   ]
  },
  {
   "cell_type": "code",
   "execution_count": null,
   "metadata": {},
   "outputs": [],
   "source": [
    "# Looks like we have some values that seem out of place being that there are\n",
    "# houses with 0 bedrooms,  0 baths, a negative sqr footage and a negative price.  \n",
    "# There are also some bizarre longitudes/latitudes. A house in Antartica perhaps. "
   ]
  },
  {
   "cell_type": "code",
   "execution_count": null,
   "metadata": {
    "jupyter": {
     "outputs_hidden": false
    }
   },
   "outputs": [],
   "source": [
    "# Check out the cities. Most cities with very few observations.\n",
    "shd.city.value_counts()"
   ]
  },
  {
   "cell_type": "code",
   "execution_count": null,
   "metadata": {
    "jupyter": {
     "outputs_hidden": false
    }
   },
   "outputs": [],
   "source": [
    "# Whats the deal with the houses that have 0 bedrooms?\n",
    "shd[shd['beds'] == 0]"
   ]
  },
  {
   "cell_type": "code",
   "execution_count": null,
   "metadata": {
    "jupyter": {
     "outputs_hidden": false
    }
   },
   "outputs": [],
   "source": [
    "print(shd[shd['beds'] == 0].shape)"
   ]
  },
  {
   "cell_type": "code",
   "execution_count": null,
   "metadata": {},
   "outputs": [],
   "source": [
    "# Given the large value of houses that have 0 beds, 0 baths and 0 square feet \n",
    "# I am going to make an assumption that these are plots of land that have yet\n",
    "# to have anything built on them.\n",
    "# As a result I will *not* be dropping them."
   ]
  },
  {
   "cell_type": "code",
   "execution_count": null,
   "metadata": {
    "jupyter": {
     "outputs_hidden": false
    }
   },
   "outputs": [],
   "source": [
    "# what about those houses that are less than 0 dollars?\n",
    "shd[shd['price'] < 1]"
   ]
  },
  {
   "cell_type": "code",
   "execution_count": null,
   "metadata": {
    "jupyter": {
     "outputs_hidden": false
    }
   },
   "outputs": [],
   "source": [
    "# And the negative square feet?\n",
    "shd[shd['sq__ft'] < 0]"
   ]
  },
  {
   "cell_type": "code",
   "execution_count": null,
   "metadata": {},
   "outputs": [],
   "source": [
    "# Looks like the house with a negative price is also the one with a negative squarefeet.\n",
    "# It is time to make a choice.  Assume that the data was entered improperly and is meant \n",
    "# to be possitive or drop the data.\n",
    "\n",
    "# Side note, the state is actually labeled wrong as well."
   ]
  },
  {
   "cell_type": "code",
   "execution_count": null,
   "metadata": {
    "jupyter": {
     "outputs_hidden": false
    }
   },
   "outputs": [],
   "source": [
    "# Let me check if any other values are also not labeled right.\n",
    "shd[shd['state'] != 'CA']"
   ]
  },
  {
   "cell_type": "code",
   "execution_count": null,
   "metadata": {
    "jupyter": {
     "outputs_hidden": false
    }
   },
   "outputs": [],
   "source": [
    "#Looks like it is just one row, so I am going to drop it.\n",
    "\n",
    "shd.drop(703, inplace = True)"
   ]
  },
  {
   "cell_type": "markdown",
   "metadata": {},
   "source": [
    "### 3. Our goal will be to predict price. List variables that you think qualify as predictors of price in a SLR model. \n",
    "\n",
    "**For each of these variables you believe to be valid potential predictors in an SLR model, generate a plot showing the relationship between the independent variable and dependent variable.**"
   ]
  },
  {
   "cell_type": "code",
   "execution_count": null,
   "metadata": {},
   "outputs": [],
   "source": [
    "# Id say we can use 'beds','baths','sq__ft'\n",
    "# Maybe 'latitude' & 'longitude', but that's more involved."
   ]
  },
  {
   "cell_type": "code",
   "execution_count": null,
   "metadata": {
    "jupyter": {
     "outputs_hidden": false
    }
   },
   "outputs": [],
   "source": [
    "import seaborn as sns\n",
    "import matplotlib.pyplot as plt\n",
    "%matplotlib inline\n",
    "\n",
    "sns.lmplot(x='sq__ft', y='price', data=shd)\n",
    "plt.show()\n",
    "sns.lmplot(x='beds', y='price', data=shd)\n",
    "plt.show()\n",
    "sns.lmplot(x='baths', y='price', data=shd)\n",
    "plt.show()"
   ]
  },
  {
   "cell_type": "markdown",
   "metadata": {},
   "source": [
    "When you're  all done cleaning or made a good deal a progress cleaning, it is never a bad idea to save your work.\n",
    "```python\n",
    "shd.to_csv('./datasets/sacramento_real_estate_transactions_Clean.csv')\n",
    "```"
   ]
  },
  {
   "cell_type": "markdown",
   "metadata": {},
   "source": [
    "### 4. Which variable would be the best predictor of Y in a SLR model? Why?"
   ]
  },
  {
   "cell_type": "code",
   "execution_count": null,
   "metadata": {},
   "outputs": [],
   "source": [
    "# It looks like Square Footage is a better predictor than Beds or Baths.\n",
    "# Beds and Baths are discrete measures as opposed to Square feet, which is continuous.  \n",
    "# Additionally, there is probably some strong coorelations between them in that houses \n",
    "# with bigger square feet will have more beds and more baths.\n",
    "\n",
    "# If we dropped all the plots of land that are in the dataset (those with 0 sq ft, \n",
    "# beds & baths)  we would see a much stronger trend line in our lm plot."
   ]
  },
  {
   "cell_type": "markdown",
   "metadata": {},
   "source": [
    "### 5. Build a function that will take in two lists `Y` and `X` and returns the intercept and slope coefficients that minimize SSE. \n",
    "\n",
    "`Y` is the target variable and `X` is the predictor variable.\n",
    "\n",
    "- **Test your function on price and the variable you determined was the best predictor in Problem 4.**\n",
    "- **Report the slope and intercept.**"
   ]
  },
  {
   "cell_type": "code",
   "execution_count": null,
   "metadata": {
    "jupyter": {
     "outputs_hidden": false
    }
   },
   "outputs": [],
   "source": [
    "import numpy as np\n",
    "import scipy.stats\n",
    "\n",
    "# Get the optimal Slope and y intercept\n",
    "\n",
    "def lin_reg(x,y):\n",
    "    # Using other libraries for standard Deviation and Pearson Correlation Coef.\n",
    "    # Note that in SLR, the correlation coefficient multiplied by the standard\n",
    "    # deviation of y divided by standard deviation of x is the optimal slope.\n",
    "    beta_1 = (scipy.stats.pearsonr(x,y)[0])*(np.std(y)/np.std(x))\n",
    "    \n",
    "    # Pearson Co. Coef returns a tuple so it needs to be sliced/indexed\n",
    "    # the optimal beta is found by: mean(y) - b1 * mean(x)\n",
    "    beta_0 = np.mean(y)-(beta_1*np.mean(x)) \n",
    "    \n",
    "    #Print the Optimal Values\n",
    "    print('The Optimal Y Intercept is ', beta_0)\n",
    "    print('The Optimal slope is ', beta_1)"
   ]
  },
  {
   "cell_type": "code",
   "execution_count": null,
   "metadata": {
    "jupyter": {
     "outputs_hidden": false
    }
   },
   "outputs": [],
   "source": [
    "x = shd['sq__ft'].values\n",
    "y = shd['price'].values\n",
    "\n",
    "lin_reg(x,y)"
   ]
  },
  {
   "cell_type": "markdown",
   "metadata": {},
   "source": [
    "### 6. Interpret the intercept. Interpret the slope."
   ]
  },
  {
   "cell_type": "code",
   "execution_count": null,
   "metadata": {},
   "outputs": [],
   "source": [
    "# The intercept should be the relative y value that our data starts around \n",
    "# in that from this point out, as x increase so should the y value from this point.\n",
    "\n",
    "# The intercept is an \"offset\". Without the intercept our regression line would\n",
    "# be forced to pass through the origin.\n",
    "\n",
    "# The slope is the increase in our target (price) variable for a 1-unit increase\n",
    "# in our predictor variable (sq__ft). So, for every sq__ft increase there is\n",
    "# an associated increase of ~54 dollars."
   ]
  },
  {
   "cell_type": "markdown",
   "metadata": {},
   "source": [
    "### 7. Give an example of how this model could be used for prediction and how this model could be used for inference. \n",
    "\n",
    "**Be sure to make it clear which example is associated with prediction and which is associated with inference.**"
   ]
  },
  {
   "cell_type": "code",
   "execution_count": null,
   "metadata": {},
   "outputs": [],
   "source": [
    "# Prediction\n",
    "# You are a real estate agent with a separate database on house characteristics and locations.\n",
    "# You want to estimate the most likely price that one of these houses will sell at based\n",
    "# on the model that we built using this data.\n",
    "\n",
    "# Inference\n",
    "# You work for an architecture company that wants to understand what characteristics of a house\n",
    "# and what areas are associated with perceived value. You have some hypotheses about what\n",
    "# makes a house valuable but you would like to test these hypotheses."
   ]
  },
  {
   "cell_type": "markdown",
   "metadata": {},
   "source": [
    "### 8: [Bonus] Using the model you came up with in Problem 5, calculate and plot the residuals."
   ]
  },
  {
   "cell_type": "code",
   "execution_count": null,
   "metadata": {},
   "outputs": [],
   "source": [
    "# predictor: y = 162938.74 + 54.16x\n",
    "# Creating a list of predicted values\n",
    "y_pred = []\n",
    "\n",
    "for x in shd['sq__ft']:\n",
    "    y = 162938.74 + (54.16*x)\n",
    "    y_pred.append(y)\n"
   ]
  },
  {
   "cell_type": "code",
   "execution_count": null,
   "metadata": {},
   "outputs": [],
   "source": [
    "# Appending the predicted values to the Sacramento housing dataframe to do DF calcs\n",
    "shd['Pred'] = y_pred\n",
    "\n",
    "# Residuals equals the difference between Y-True and Y-Pred\n",
    "shd['Residuals'] = abs(shd['price']-shd['Pred'])"
   ]
  },
  {
   "cell_type": "code",
   "execution_count": null,
   "metadata": {
    "jupyter": {
     "outputs_hidden": false
    }
   },
   "outputs": [],
   "source": [
    "shd['Residuals'].mean()\n",
    "# the mean of our residuals is aproximately $96,000, which means that is\n",
    "# on average how off our prediction is."
   ]
  },
  {
   "cell_type": "code",
   "execution_count": null,
   "metadata": {
    "jupyter": {
     "outputs_hidden": false
    }
   },
   "outputs": [],
   "source": [
    "# Plot showing out linear forcast\n",
    "fig = plt.figure(figsize=(20,20))\n",
    "\n",
    "# change the fontsize of minor ticks label\n",
    "plot = fig.add_subplot(111)\n",
    "plot.tick_params(axis='both', which='major', labelsize=20)\n",
    "\n",
    "# get the axis of that figure\n",
    "ax = plt.gca()\n",
    "\n",
    "# plot a scatter plot on it with our data\n",
    "ax.scatter(x= shd['sq__ft'], y=shd['price'], c='k')\n",
    "ax.plot(shd['sq__ft'], shd['Pred'], color='r');"
   ]
  },
  {
   "cell_type": "code",
   "execution_count": null,
   "metadata": {
    "jupyter": {
     "outputs_hidden": false
    }
   },
   "outputs": [],
   "source": [
    "# Plot with residuals\n",
    "fig = plt.figure(figsize=(20,20))\n",
    "\n",
    "# change the fontsize of minor ticks label\n",
    "plot = fig.add_subplot(111)\n",
    "plot.tick_params(axis='both', which='major', labelsize=20)\n",
    "\n",
    "# get the axis of that figure\n",
    "ax = plt.gca()\n",
    "\n",
    "# plot a scatter plot on it with our data\n",
    "ax.scatter(x= shd['sq__ft'], y=shd['price'], c='k')\n",
    "ax.plot(shd['sq__ft'], shd['Pred'], color='r');\n",
    "\n",
    "# iterate over predictions\n",
    "for _, row in shd.iterrows():\n",
    "    plt.plot((row['sq__ft'], row['sq__ft']), (row['price'], row['Pred']), 'b-')"
   ]
  },
  {
   "cell_type": "code",
   "execution_count": null,
   "metadata": {
    "jupyter": {
     "outputs_hidden": false
    }
   },
   "outputs": [],
   "source": [
    "# One more plot, Lets look how our Predictions compared to the true values.\n",
    "sns.lmplot(x='price', y='Pred', data=shd)"
   ]
  },
  {
   "cell_type": "code",
   "execution_count": null,
   "metadata": {
    "jupyter": {
     "outputs_hidden": true
    }
   },
   "outputs": [],
   "source": [
    "# Given our last visual we can see that a lot of points were plotted along the \n",
    "# y-intercept (y= 162938.74).  Those were all the houses with a reported\n",
    "# square footage of 0 feet.  We could probably create a more insightful\n",
    "# model if we removed those observations from our data."
   ]
  }
 ],
 "metadata": {
  "anaconda-cloud": {},
  "kernelspec": {
   "display_name": "Python 3",
   "language": "python",
   "name": "python3"
  },
  "language_info": {
   "codemirror_mode": {
    "name": "ipython",
    "version": 3
   },
   "file_extension": ".py",
   "mimetype": "text/x-python",
   "name": "python",
   "nbconvert_exporter": "python",
   "pygments_lexer": "ipython3",
   "version": "3.7.3"
  },
  "toc": {
   "base_numbering": 1,
   "nav_menu": {},
   "number_sections": true,
   "sideBar": true,
   "skip_h1_title": false,
   "title_cell": "Table of Contents",
   "title_sidebar": "Contents",
   "toc_cell": false,
   "toc_position": {},
   "toc_section_display": true,
   "toc_window_display": false
  }
 },
 "nbformat": 4,
 "nbformat_minor": 4
}
